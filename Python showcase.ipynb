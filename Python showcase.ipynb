{
 "cells": [
  {
   "cell_type": "code",
   "execution_count": 1,
   "metadata": {},
   "outputs": [
    {
     "name": "stdout",
     "output_type": "stream",
     "text": [
      "Silence is golden\n"
     ]
    }
   ],
   "source": [
    "print('Silence is golden')"
   ]
  },
  {
   "cell_type": "code",
   "execution_count": 2,
   "metadata": {},
   "outputs": [
    {
     "data": {
      "text/plain": [
       "0.75"
      ]
     },
     "execution_count": 2,
     "metadata": {},
     "output_type": "execute_result"
    }
   ],
   "source": [
    "1/2 + 1/4"
   ]
  },
  {
   "cell_type": "code",
   "execution_count": 3,
   "metadata": {},
   "outputs": [
    {
     "data": {
      "text/plain": [
       "array([1., 0., 0., 0., 0., 0., 0., 0., 0., 1.])"
      ]
     },
     "execution_count": 3,
     "metadata": {},
     "output_type": "execute_result"
    }
   ],
   "source": [
    "import numpy as np\n",
    "a = np.zeros(10)\n",
    "a[0] = 1\n",
    "a[-1] = 1\n",
    "a"
   ]
  },
  {
   "cell_type": "code",
   "execution_count": 4,
   "metadata": {},
   "outputs": [
    {
     "data": {
      "text/plain": [
       "array([[1., 0., 0., 0.],\n",
       "       [0., 1., 0., 0.],\n",
       "       [0., 0., 1., 0.]])"
      ]
     },
     "execution_count": 4,
     "metadata": {},
     "output_type": "execute_result"
    }
   ],
   "source": [
    "import numpy as np\n",
    "a = np.zeros(shape=(3,4))\n",
    "for i in range(3): \n",
    "    a[i,i] = 1\n",
    "a"
   ]
  },
  {
   "cell_type": "code",
   "execution_count": 5,
   "metadata": {},
   "outputs": [
    {
     "name": "stdout",
     "output_type": "stream",
     "text": [
      "abc,abc,abc\n",
      "strlen:  3\n"
     ]
    }
   ],
   "source": [
    "s = 'abc'\n",
    "print(s + ',' + s + ',' + s)\n",
    "print('strlen: ', len(s))"
   ]
  },
  {
   "cell_type": "code",
   "execution_count": 6,
   "metadata": {},
   "outputs": [
    {
     "name": "stdout",
     "output_type": "stream",
     "text": [
      "Initial file:\n",
      "27\n",
      "40\n",
      "87\n",
      "66\n",
      "71\n",
      "65\n",
      "0\n",
      "14\n",
      "31\n",
      "34\n",
      "\n",
      "Result:\n",
      "27\n",
      "87\n",
      "71\n",
      "65\n",
      "31\n"
     ]
    }
   ],
   "source": [
    "from random import randrange\n",
    "with open(\"file.txt\", \"w\") as file:\n",
    "    for i in range(10):\n",
    "        file.write(str(randrange(100)) + '\\n')\n",
    "               \n",
    "odds = []\n",
    "\n",
    "print('Initial file:')\n",
    "\n",
    "with open(\"file.txt\") as file:\n",
    "    for line in file:\n",
    "        i = int(line)\n",
    "        print(i)\n",
    "        if i % 2 == 1: \n",
    "            odds.append(i)\n",
    "            \n",
    "print()\n",
    "print('Result:')\n",
    "            \n",
    "with open(\"file.txt\", \"w\") as file:\n",
    "    for i in odds:\n",
    "        file.write(str(i) + '\\n')\n",
    "        \n",
    "with open(\"file.txt\") as file:\n",
    "    for line in file:\n",
    "        print(int(line))"
   ]
  },
  {
   "cell_type": "code",
   "execution_count": null,
   "metadata": {},
   "outputs": [
    {
     "name": "stdout",
     "output_type": "stream",
     "text": [
      "Input maximum number\n"
     ]
    }
   ],
   "source": [
    "n: int = -1\n",
    "k: int = -1\n",
    "while n <= 0 :\n",
    "    print('Input maximum number')\n",
    "    n = int(input())\n",
    "    \n",
    "while k <= 0 :\n",
    "    print('Input number of tries')\n",
    "    k = int(input())\n",
    "    \n",
    "from random import randrange\n",
    "ans: int = randrange(n) + 1\n",
    "guess: int = -1\n",
    "\n",
    "    \n",
    "print('Try to guess number from 1 to ' + str(n))\n",
    "for i in range(k) :\n",
    "    print('Tries left: ', str(k-i))\n",
    "    guess = int(input())\n",
    "    if guess == ans :\n",
    "        print('Correct!')\n",
    "        break\n",
    "    else :\n",
    "        print('WRONG!')\n",
    "        if guess > ans :\n",
    "            print('TOO HIGH!')\n",
    "        else: \n",
    "            print('TOO LOW!')\n",
    "\n",
    "if guess != ans :\n",
    "    print('YOU LOSE!')\n",
    "    print('ANSWER WAS ' + str(ans))\n",
    "else:\n",
    "    print('YOU WIN!')\n",
    "\n"
   ]
  },
  {
   "cell_type": "code",
   "execution_count": null,
   "metadata": {},
   "outputs": [],
   "source": [
    "import numpy as np\n",
    "import string\n",
    "import random\n",
    "\n",
    "names = ['Bob', 'Alice', 'Bobalice', 'Alicebob', 'Ecilabob', 'Bobecila']\n",
    "\n",
    "class student:\n",
    "    lastName: str\n",
    "    initials: str\n",
    "    group: int\n",
    "    marks = []\n",
    "    \n",
    "    def __init__(self):\n",
    "        self.initials = random.choice(string.ascii_letters)\n",
    "        self.lastName = random.choice(names)\n",
    "        self.group = random.randrange(10)\n",
    "        self.marks = np.random.randint(1,5,5) + 1 \n",
    "    \n",
    "    def excels(self):\n",
    "        return sum(self.marks > 3) == 5  \n",
    "    \n",
    "    def printNameGroup(self):\n",
    "        print(self.lastName + ' ' + str(self.group))\n",
    "        \n",
    "    def printNameAvgMark(self):\n",
    "        print(self.lastName + ' ' + str(np.mean(self.marks)))\n",
    "        \n",
    "    def __it__(self, other):\n",
    "        np.mean(self.marks) < np.mean(other.marks)\n",
    "\n",
    "students = []\n",
    "\n",
    "print(\"Students:\")\n",
    "\n",
    "for i in range(100):\n",
    "    students.append(student())\n",
    "    students[-1].printNameGroup()\n",
    "    \n",
    "def sortStudents():\n",
    "    students.sort(key = lambda s: np.mean(s.marks))\n",
    "    \n",
    "def showStudentMarks():\n",
    "    for s in students:\n",
    "        s.printNameAvgMark()\n",
    "        \n",
    "    \n",
    "def showHonorStudents():\n",
    "    for s in students:\n",
    "        if s.excels():\n",
    "            s.printNameAvgMark()\n",
    "      \n",
    "print(\"Sorted students:\")\n",
    "sortStudents()\n",
    "showStudentMarks()\n",
    "\n",
    "\n",
    "print(\"Honor students:\")\n",
    "showHonorStudents()\n",
    "   \n"
   ]
  },
  {
   "cell_type": "code",
   "execution_count": null,
   "metadata": {},
   "outputs": [],
   "source": [
    "import numpy as np\n",
    "array = np.random.randint(1,5,5) + 1 \n",
    "print(array)\n",
    "print(array >= 3)\n",
    "s = sum(array >= 3)\n",
    "print(s)"
   ]
  },
  {
   "cell_type": "code",
   "execution_count": null,
   "metadata": {},
   "outputs": [],
   "source": [
    "list = [0,1,2,3,4,5,6]\n",
    "list.insert(0, -1)\n",
    "list.append(7)\n",
    "print(list)\n",
    "list.clear()\n",
    "print(list)\n",
    "list = [0,1,2,3,4,5,6]\n",
    "print(list)\n",
    "print(len(list))\n",
    "if not list:\n",
    "  print(\"List is empty\")\n",
    "else:\n",
    "  print(\"List is not empty\")\n",
    "list.pop(0)\n",
    "print(list)\n",
    "list.pop()\n",
    "print(list)\n",
    "\n",
    "print(list.index(3))\n",
    "print(max(list))\n",
    "print(min(list))\n",
    "list.pop(list.index(3))\n",
    "print(list)\n",
    "\n",
    "list.insert(0, 4)\n",
    "list.append(4)\n",
    "print(list)\n",
    "\n",
    "try:\n",
    "    i = list.index(4)\n",
    "    while i >= 0:\n",
    "        list.pop(i)\n",
    "        i = list.index(4)\n",
    "except ValueError:\n",
    "    i = -1\n",
    "print(list)\n",
    "\n",
    "list.insert(0, 8)\n",
    "list.insert(4, 8)\n",
    "list.append(8)\n",
    "print(list)\n",
    "\n",
    "try:\n",
    "    i = list.index(8)\n",
    "    while i >= 0:\n",
    "        list[i] = 9\n",
    "        i = list.index(8, i)\n",
    "    print(list)\n",
    "except ValueError:\n",
    "    i = -1\n",
    "    \n",
    "print(list)"
   ]
  },
  {
   "cell_type": "code",
   "execution_count": null,
   "metadata": {},
   "outputs": [],
   "source": [
    "l1 = [1,2,3,3,2,1]\n",
    "l2 = [1,2,3,2,1]\n",
    "l3 = [1,2,3,2,1,2]\n",
    "l4 = [1,1,2,3,2,1]\n",
    "l5 = [1,1,2,3,2,3,2,1]\n",
    "\n",
    "def symList(ml: list):\n",
    "    l = len(ml)\n",
    "    print(l)\n",
    "    if l%2==1:\n",
    "        s = l//2 + 1\n",
    "    else:\n",
    "        s = l//2\n",
    "    print(s)\n",
    "        \n",
    "    result = True\n",
    "    for j in range (s, l-1):\n",
    "        if ml[j] != ml[-j-1]:\n",
    "            print(str(ml[j]) + ' ' + str(ml[-j]))\n",
    "            result = False;\n",
    "            break\n",
    "            \n",
    "    return result\n",
    "\n",
    "print(l1[-1])\n",
    "print(l1[-2])\n",
    "\n",
    "print(symList(l1))\n",
    "print(symList(l2))\n",
    "print(symList(l3))\n",
    "print(symList(l4))\n",
    "print(symList(l5))\n",
    "        "
   ]
  },
  {
   "cell_type": "code",
   "execution_count": null,
   "metadata": {},
   "outputs": [],
   "source": [
    "l1 = [1,2,3,3,2,1,0]\n",
    "\n",
    "def countUniq(ml: list):\n",
    "    s = set(ml)\n",
    "    return len(s)\n",
    "\n",
    "l2 = list(set(l1))\n",
    "print(l2)\n",
    "\n",
    "print(countUniq(l1))\n",
    "\n",
    "print(l1)\n",
    "l1.reverse()\n",
    "print(l1)\n",
    "\n",
    "l1.sort()\n",
    "print(l1)"
   ]
  }
 ],
 "metadata": {
  "kernelspec": {
   "display_name": "Python 3",
   "language": "python",
   "name": "python3"
  },
  "language_info": {
   "codemirror_mode": {
    "name": "ipython",
    "version": 3
   },
   "file_extension": ".py",
   "mimetype": "text/x-python",
   "name": "python",
   "nbconvert_exporter": "python",
   "pygments_lexer": "ipython3",
   "version": "3.7.3"
  }
 },
 "nbformat": 4,
 "nbformat_minor": 2
}
