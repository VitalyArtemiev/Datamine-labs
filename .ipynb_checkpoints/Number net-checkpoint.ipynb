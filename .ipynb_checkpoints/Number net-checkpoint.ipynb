{
 "cells": [
  {
   "cell_type": "code",
   "execution_count": 9,
   "metadata": {},
   "outputs": [
    {
     "name": "stdout",
     "output_type": "stream",
     "text": [
      "[[0.64021761 0.73906803 0.66019749]\n",
      " [0.25138054 0.37135528 0.68780903]\n",
      " [0.98231893 0.0215902  0.26134305]\n",
      " [0.8965232  0.39262672 0.00463174]\n",
      " [0.06295494 0.98365863 0.8705862 ]]\n"
     ]
    },
    {
     "data": {
      "image/png": "[encoded data removed]",
      "text/plain": [
       "<Figure size 432x288 with 1 Axes>"
      ]
     },
     "metadata": {
      "needs_background": "light"
     },
     "output_type": "display_data"
    },
    {
     "data": {
      "image/png": "[encoded data removed]",
      "text/plain": [
       "<Figure size 432x288 with 1 Axes>"
      ]
     },
     "metadata": {
      "needs_background": "light"
     },
     "output_type": "display_data"
    },
    {
     "data": {
      "image/png": "[encoded data removed]",
      "text/plain": [
       "<Figure size 432x288 with 1 Axes>"
      ]
     },
     "metadata": {
      "needs_background": "light"
     },
     "output_type": "display_data"
    },
    {
     "data": {
      "image/png": "[encoded data removed]",
      "text/plain": [
       "<Figure size 432x288 with 1 Axes>"
      ]
     },
     "metadata": {
      "needs_background": "light"
     },
     "output_type": "display_data"
    },
    {
     "data": {
      "image/png": "[encoded data removed]",
      "text/plain": [
       "<Figure size 432x288 with 1 Axes>"
      ]
     },
     "metadata": {
      "needs_background": "light"
     },
     "output_type": "display_data"
    },
    {
     "data": {
      "image/png": "[encoded data removed]",
      "text/plain": [
       "<Figure size 432x288 with 1 Axes>"
      ]
     },
     "metadata": {
      "needs_background": "light"
     },
     "output_type": "display_data"
    },
    {
     "data": {
      "image/png": "[encoded data removed]",
      "text/plain": [
       "<Figure size 432x288 with 1 Axes>"
      ]
     },
     "metadata": {
      "needs_background": "light"
     },
     "output_type": "display_data"
    },
    {
     "data": {
      "image/png": "[encoded data removed]",
      "text/plain": [
       "<Figure size 432x288 with 1 Axes>"
      ]
     },
     "metadata": {
      "needs_background": "light"
     },
     "output_type": "display_data"
    },
    {
     "data": {
      "image/png": "[encoded data removed]",
      "text/plain": [
       "<Figure size 432x288 with 1 Axes>"
      ]
     },
     "metadata": {
      "needs_background": "light"
     },
     "output_type": "display_data"
    },
    {
     "data": {
      "image/png": "[encoded data removed]",
      "text/plain": [
       "<Figure size 432x288 with 1 Axes>"
      ]
     },
     "metadata": {
      "needs_background": "light"
     },
     "output_type": "display_data"
    },
    {
     "data": {
      "image/png": "[encoded data removed]",
      "text/plain": [
       "<Figure size 432x288 with 1 Axes>"
      ]
     },
     "metadata": {
      "needs_background": "light"
     },
     "output_type": "display_data"
    }
   ],
   "source": [
    "import numpy as np\n",
    "import matplotlib.pyplot as plt\n",
    "import matplotlib\n",
    "\n",
    "def disp(data):\n",
    "    (r, c) = data.shape\n",
    "    #make a figure + axes\n",
    "    fig, ax = plt.subplots(1, 1, tight_layout=True)\n",
    "    # make color map\n",
    "    my_cmap = matplotlib.colors.ListedColormap(['r', 'g', 'b'])\n",
    "    # set the 'bad' values (nan) to be white and transparent\n",
    "    my_cmap.set_bad(color='w', alpha=0)\n",
    "    # draw the grid\n",
    "    for x in range(6):\n",
    "        ax.axhline(x, lw=2, color='k', zorder=5)\n",
    "        ax.axvline(x, lw=2, color='k', zorder=5)\n",
    "    # draw the boxes\n",
    "    ax.imshow(data, interpolation='none', cmap = plt.cm.Reds, extent=[0, c, 0, r], zorder=0)\n",
    "    # turn off the axis labels\n",
    "    ax.axis('off')\n",
    "\n",
    "rows = 5\n",
    "cols = 3\n",
    "# make an empty data set\n",
    "data = np.random.ranf(size = (rows, cols))\n",
    "print(data)\n",
    "disp(data)\n",
    "\n",
    "one = np.array([\n",
    "      [0, 0, 1],\n",
    "      [0, 0, 1],\n",
    "      [0, 0, 1],\n",
    "      [0, 0, 1],\n",
    "      [0, 0, 1]\n",
    "      ])\n",
    "\n",
    "two = np.array([\n",
    "      [1, 1, 1],\n",
    "      [0, 0, 1],\n",
    "      [1, 1, 1],\n",
    "      [1, 0, 0],\n",
    "      [1, 1, 1]\n",
    "      ])\n",
    "\n",
    "three = np.array([\n",
    "      [1, 1, 1],\n",
    "      [0, 0, 1],\n",
    "      [1, 1, 1],\n",
    "      [0, 0, 1],\n",
    "      [1, 1, 1]\n",
    "      ])\n",
    "\n",
    "four = np.array([\n",
    "      [1, 0, 1],\n",
    "      [1, 0, 1],\n",
    "      [1, 1, 1],\n",
    "      [0, 0, 1],\n",
    "      [0, 0, 1]\n",
    "      ])\n",
    "\n",
    "five = np.array([\n",
    "      [1, 1, 1],\n",
    "      [1, 0, 0],\n",
    "      [1, 1, 1],\n",
    "      [0, 0, 1],\n",
    "      [1, 1, 1]\n",
    "      ])\n",
    "\n",
    "six = np.array([\n",
    "      [1, 1, 1],\n",
    "      [1, 0, 0],\n",
    "      [1, 1, 1],\n",
    "      [1, 0, 1],\n",
    "      [1, 1, 1]\n",
    "      ])\n",
    "\n",
    "seven = np.array([\n",
    "      [1, 1, 1],\n",
    "      [0, 0, 1],\n",
    "      [0, 1, 0],\n",
    "      [0, 1, 0],\n",
    "      [0, 1, 0]\n",
    "      ])\n",
    "\n",
    "eight = np.array([\n",
    "      [1, 1, 1],\n",
    "      [1, 0, 1],\n",
    "      [1, 1, 1],\n",
    "      [1, 0, 1],\n",
    "      [1, 1, 1]\n",
    "      ])\n",
    "\n",
    "nine = np.array([\n",
    "      [1, 1, 1],\n",
    "      [1, 0, 1],\n",
    "      [1, 1, 1],\n",
    "      [0, 0, 1],\n",
    "      [1, 1, 1]\n",
    "      ])\n",
    "\n",
    "zero = np.array([\n",
    "      [1, 1, 1],\n",
    "      [1, 0, 1],\n",
    "      [1, 0, 1],\n",
    "      [1, 0, 1],\n",
    "      [1, 1, 1]\n",
    "      ])\n",
    "\n",
    "digits = np.array([zero, one, two, three, four, \n",
    "                   five, six, seven, eight, nine])\n",
    "\n",
    "def noise(severity = 0.3):\n",
    "    return np.random.ranf(size = (rows, cols)) * severity - severity/2\n",
    "\n",
    "def nonlin(x, deriv=False):\n",
    "    if (deriv == True):\n",
    "        return (x * (1 - x))\n",
    "\n",
    "    return 1 / (1 + np.exp(-x))\n",
    "\n",
    "def forward(X: np.array):\n",
    "    l0 = X.flatten()\n",
    "    l1 = nonlin(np.dot(l0, syn0))\n",
    "    l2 = nonlin(np.dot(l1, syn1))\n",
    "    return l2;\n",
    "\n",
    "X = np.array([zero.flatten(),\n",
    "              one.flatten(),\n",
    "              two.flatten(),\n",
    "              three.flatten(),\n",
    "              four.flatten(),\n",
    "              five.flatten(),\n",
    "              six.flatten(),\n",
    "              seven.flatten(),\n",
    "              eight.flatten(),\n",
    "              nine.flatten()\n",
    "             ])\n",
    "\n",
    "y = np.zeros(shape=(10, 10))\n",
    "for i in range(10): \n",
    "    a[i,i] = 1\n",
    "    \n",
    "\n",
    "def train():\n",
    "    syn0 = 2 * np.random.random((15, 13)) - 1  # 4x8 matrix of weights ((3 inputs + 1 bias) x 8 nodes in the hidden layer)\n",
    "    syn1 = 2 * np.random.random((13, 10)) - 1  # 8x1 matrix of weights. (8 nodes x 1 output) - no bias term in the hidden layer.\n",
    "\n",
    "    for j in range(60000):\n",
    "\n",
    "        # Calculate forward through the network.\n",
    "        l0 = X\n",
    "        l1 = nonlin(np.dot(l0, syn0))\n",
    "        l2 = nonlin(np.dot(l1, syn1))\n",
    "\n",
    "        # Back propagation of errors using the chain rule.\n",
    "        l2_error = y - l2\n",
    "        if (j % 10000) == 0:\n",
    "            print(\"Error: \" + str(np.mean(np.abs(l2_error))))\n",
    "\n",
    "        #l2_delta = l2_error * nonlin(l2, deriv=True)\n",
    "        #l1_error = l2_delta.dot(syn1.T)\n",
    "        #l1_delta = l1_error * nonlin(l1, deriv=True)\n",
    "\n",
    "        # update weights (no learning rate term)\n",
    "        syn1 += l1.T.dot(l2_delta)\n",
    "        syn0 += l0.T.dot(l1_delta)\n",
    "    \n",
    "def test():\n",
    "    for i in range(10):\n",
    "        input[i] = digits[i] + noise()\n",
    "        output = forward(input)\n",
    "        if np.argmax(output) == i:\n",
    "    \n",
    "    \n",
    "\n",
    "for i in range(10):\n",
    "    disp(digits[i] + noise())"
   ]
  },
  {
   "cell_type": "code",
   "execution_count": null,
   "metadata": {},
   "outputs": [],
   "source": []
  }
 ],
 "metadata": {
  "kernelspec": {
   "display_name": "Python 3",
   "language": "python",
   "name": "python3"
  },
  "language_info": {
   "codemirror_mode": {
    "name": "ipython",
    "version": 3
   },
   "file_extension": ".py",
   "mimetype": "text/x-python",
   "name": "python",
   "nbconvert_exporter": "python",
   "pygments_lexer": "ipython3",
   "version": "3.7.3"
  }
 },
 "nbformat": 4,
 "nbformat_minor": 2
}
