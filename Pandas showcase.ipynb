{
 "cells": [
  {
   "cell_type": "code",
   "execution_count": 1,
   "metadata": {},
   "outputs": [],
   "source": [
    "# Файл test.csv (тестовые данные для проверки точности созданной модели)\n",
    "# PassengerId - Уникальный идентификатор пассажира\n",
    "# PclassКласс- пассажира (1-й, 2-й или 3-й)\n",
    "# имя - имя пассажира\n",
    "# Пол - пол пассажира\n",
    "# Возраст - Возраст пассажира\n",
    "# SibSp - Количество братьев и сестер / супругов на борту Титаника\n",
    "# высушивать - Количество родителей / детей на борту Титаника\n",
    "# Проездной билет -Номер билета\n",
    "# Плата за проезд - Тариф оплачен за билет\n",
    "# Кабина - Номер каюты\n",
    "# путь начинал - Где пассажир попал на корабль (C - Шербур, S - Саутгемптон, Q = Куинстаун)\n",
    "\n",
    "# Файл train.csv (содержит данные)\n",
    "# PassengerId - Уникальный идентификатор пассажира\n",
    "# Survived - Выжил (1) или умер (0)\n",
    "# Pclass - Класс пассажира (1-й, 2-й или 3-й)\n",
    "# Name - Имя пассажира\n",
    "# Sex - Пол пассажира (мужской - male, женский - female)\n",
    "# Age  - Возраст пассажира\n",
    "# SibSp - Количество братьев и сестер / супругов на борту Титаника\n",
    "# Parch - Количество родителей / детей на борту Титаника\n",
    "# Ticket - Номер билета\n",
    "# Fare- Тариф оплачен за билет (плата за проезда)\n",
    "# Cabin - Номер каюты\n",
    "# Embarked - Где пассажир попал на корабль (C - Шербур, S - Саутгемптон, Q = Куинстаун)  (C - Cherbourg, S - Southampton,  = Queenstown)\n",
    "\n",
    "import pandas as pd\n",
    "df = pd.read_csv('titanic.csv', sep=',')"
   ]
  },
  {
   "cell_type": "code",
   "execution_count": 2,
   "metadata": {},
   "outputs": [
    {
     "name": "stdout",
     "output_type": "stream",
     "text": [
      "314 577\n"
     ]
    }
   ],
   "source": [
    "# 1. Какое количество мужчин и женщин ехало на корабле? В качестве ответа приведите два числа через пробел. \n",
    "count_female_and_male = df['Sex'].value_counts() #unique\n",
    "print(count_female_and_male.loc['female'], count_female_and_male.loc['male']) #locate"
   ]
  },
  {
   "cell_type": "code",
   "execution_count": 3,
   "metadata": {},
   "outputs": [
    {
     "name": "stdout",
     "output_type": "stream",
     "text": [
      "Процент выживших:  38.38383838383838\n"
     ]
    }
   ],
   "source": [
    "# 2. Какой части пассажиров удалось выжить? Посчитайте долю выживших пассажиров. Ответ приведите в процентах (число в интервале от 0 до 100, знак процента не нужен), округлив до двух знаков. \n",
    "survived = (df['Survived'].value_counts()).loc[1]\n",
    "print(\"Процент выживших: \", (survived/(df.shape[0]))*100) #[0] is rows"
   ]
  },
  {
   "cell_type": "code",
   "execution_count": 4,
   "metadata": {},
   "outputs": [
    {
     "name": "stdout",
     "output_type": "stream",
     "text": [
      "Доля пассажиров первого класса составляли среди всех пассажиров: 24.0\n"
     ]
    }
   ],
   "source": [
    "# 3. Какую долю пассажиры первого класса составляли среди всех пассажиров? Ответ приведите в процентах (число в интервале от 0 до 100, знак процента не нужен), округлив до двух знаков. \n",
    "count_pas = df.shape[0] #rows\n",
    "first_class_passengers =  (df['Pclass'].value_counts())\n",
    "temp = (round((first_class_passengers.loc[1] / count_pas),2))*100\n",
    "print (\"Доля пассажиров первого класса составляли среди всех пассажиров:\", temp)"
   ]
  },
  {
   "cell_type": "code",
   "execution_count": 5,
   "metadata": {},
   "outputs": [
    {
     "name": "stdout",
     "output_type": "stream",
     "text": [
      "Среднее и медианa возраста пассажиров: 29.69911764705882 28.0\n"
     ]
    }
   ],
   "source": [
    "# 4. Какого возраста были пассажиры? Посчитайте среднее и медиану возраста пассажиров. В качестве ответа приведите два числа через пробел. \n",
    "mean_age =  df['Age'].mean()\n",
    "median_age = df['Age'].median() \n",
    "print(\"Среднее и медианa возраста пассажиров:\", mean_age, median_age)"
   ]
  },
  {
   "cell_type": "code",
   "execution_count": 6,
   "metadata": {},
   "outputs": [
    {
     "name": "stdout",
     "output_type": "stream",
     "text": [
      "Корреляция: 0.4148376986201567\n"
     ]
    }
   ],
   "source": [
    "# 5. Коррелируют ли число братьев/сестер с числом родителей детей? Посчитайте корреляцию Пирсона между признаками SibSp и Рarch.\n",
    "# Определить силу линейной зависимости между величинами (между двумя столбцами)\n",
    "print(\"Корреляция:\", df['SibSp'].corr(df['Parch'], method = 'pearson'))"
   ]
  },
  {
   "cell_type": "code",
   "execution_count": 12,
   "metadata": {},
   "outputs": [
    {
     "name": "stdout",
     "output_type": "stream",
     "text": [
      "       0\n",
      "Anna  15\n",
      "Mary  14\n"
     ]
    }
   ],
   "source": [
    "# 6. Какое самое популярное женское имя на корабле? Извлеките из полного имени пассажира (колонка Name) eго личное имя (First Name).\n",
    "# Это задание типичный пример того с чем сталкивается специалист по анализу данных. Данные очень разнородные и шумные, но из них требуется извлечь необходимую информацию. Попробуйте вручную разобрать несколько значений столбца Name и выработать правило для извлечения имен, а также разделения их на женские и мужские.\n",
    "tempDF = df[df['Sex'] == 'female']\n",
    "\n",
    "list = []\n",
    "# Операция: выбор строки по индексу. df.iloc[1] - Series\n",
    "for i in range(tempDF.shape[0]):\n",
    "    list.append((tempDF.iloc[i]).loc['Name']) # row DF i, locatе column \"Name\"\n",
    "\n",
    "#print(tempDF.loc[:, 'Name'])\n",
    "    \n",
    "ind = 0\n",
    "MrMrsList = [\"Mrs.\", \"Miss.\", \"Ms.\", \"Mlle.\", \"Mme.\", \"Countess.\", \"Dr.\", \"Lady.\"] \n",
    "listFirstName = []\n",
    "for l in range(len(list)):\n",
    "    ind = 0\n",
    "    listTmp = list[l].split(\" \") #first name, second name etc\n",
    "    for m in MrMrsList:\n",
    "        if m in listTmp:\n",
    "            ind = listTmp.index(m)\n",
    "            break\n",
    "    if(listTmp[ind]==\"Miss.\" or listTmp[ind]==\"Ms.\" or listTmp[ind]==\"Mlle.\" or listTmp[ind]==\"Dr.\" or listTmp[ind]==\"Lady.\" ):\n",
    "        listFirstName.append(listTmp[ind +1])\n",
    "    elif listTmp[ind]==\"Mrs.\" or listTmp[ind]==\"Mme.\" : #husband name?\n",
    "        for j in range(len(listTmp)):\n",
    "            if(listTmp[j].startswith(\"(\")):\n",
    "                listFirstName.append(listTmp[j].strip('\\(,\\)'))\n",
    "                break\n",
    "        else: listFirstName.append(listTmp[ind +1]) #break didn't activate\n",
    "    elif listTmp[ind]==\"Countess.\":\n",
    "        listFirstName.append(listTmp[ind+2].strip('\\(,\\)'))\n",
    "\n",
    "for str_ind in range(len(listFirstName)):\n",
    "    listFirstName[str_ind] = listFirstName[str_ind].strip('\\(,\\)')\n",
    "\n",
    "sResult = pd.Series(listFirstName).value_counts().to_frame().iloc[:2]\n",
    "print(sResult)"
   ]
  },
  {
   "cell_type": "code",
   "execution_count": null,
   "metadata": {},
   "outputs": [],
   "source": []
  },
  {
   "cell_type": "code",
   "execution_count": null,
   "metadata": {},
   "outputs": [],
   "source": []
  }
 ],
 "metadata": {
  "kernelspec": {
   "display_name": "Python 3",
   "language": "python",
   "name": "python3"
  },
  "language_info": {
   "codemirror_mode": {
    "name": "ipython",
    "version": 3
   },
   "file_extension": ".py",
   "mimetype": "text/x-python",
   "name": "python",
   "nbconvert_exporter": "python",
   "pygments_lexer": "ipython3",
   "version": "3.7.3"
  }
 },
 "nbformat": 4,
 "nbformat_minor": 4
}
